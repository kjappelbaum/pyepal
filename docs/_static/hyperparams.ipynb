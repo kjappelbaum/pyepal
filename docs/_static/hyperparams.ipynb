{
 "cells": [
  {
   "cell_type": "code",
   "execution_count": 16,
   "metadata": {},
   "outputs": [],
   "source": [
    "import numpy as np \n",
    "\n",
    "import matplotlib.pylab as plt\n",
    "plt.rcParams['font.family'] = 'sans-serif'"
   ]
  },
  {
   "cell_type": "code",
   "execution_count": 2,
   "metadata": {},
   "outputs": [],
   "source": [
    "def beta(i, ndim=3, design_space_size=3000,  delta=0.05, beta_scale=1/9):\n",
    "    return (\n",
    "            beta_scale\n",
    "            * 2\n",
    "            * np.log(\n",
    "                ndim\n",
    "                * design_space_size\n",
    "                * np.square(np.pi)\n",
    "                * np.square(i + 1)\n",
    "                / (6 * delta)\n",
    "            )\n",
    "        )"
   ]
  },
  {
   "cell_type": "code",
   "execution_count": 3,
   "metadata": {},
   "outputs": [],
   "source": [
    "x = np.linspace(1,300,300)"
   ]
  },
  {
   "cell_type": "code",
   "execution_count": 11,
   "metadata": {},
   "outputs": [],
   "source": [
    "y_delta_005_19 = [beta(i) for i in x]\n",
    "y_delta_005_1 = [beta(i, beta_scale=1) for i in x]\n",
    "y_delta_001_1 = [beta(i, beta_scale=1, delta=0.01) for i in x]\n",
    "y_delta_001_19 = [beta(i, beta_scale=1/9, delta=0.01) for i in x]"
   ]
  },
  {
   "cell_type": "code",
   "execution_count": 25,
   "metadata": {},
   "outputs": [
    {
     "name": "stderr",
     "output_type": "stream",
     "text": [
      "/Users/kevinmaikjablonka/opt/miniconda3/envs/dispersant_basf/lib/python3.7/site-packages/ipykernel_launcher.py:12: MatplotlibDeprecationWarning: \n",
      "The set_smart_bounds function was deprecated in Matplotlib 3.2 and will be removed two minor releases later.\n",
      "  if sys.path[0] == '':\n",
      "/Users/kevinmaikjablonka/opt/miniconda3/envs/dispersant_basf/lib/python3.7/site-packages/ipykernel_launcher.py:13: MatplotlibDeprecationWarning: \n",
      "The set_smart_bounds function was deprecated in Matplotlib 3.2 and will be removed two minor releases later.\n",
      "  del sys.path[0]\n"
     ]
    },
    {
     "data": {
      "image/png": "[encoded data removed]",
      "text/plain": [
       "<Figure size 432x216 with 1 Axes>"
      ]
     },
     "metadata": {
      "needs_background": "light"
     },
     "output_type": "display_data"
    }
   ],
   "source": [
    "fig, ax = plt.subplots(1,1, figsize=(6,3))\n",
    "ax.plot(x, y_delta_005_19, label=r'$\\delta=0.05, \\beta_\\mathrm{scale}=1/9$')\n",
    "ax.plot(x, y_delta_005_1, label=r'$\\delta=0.05, \\beta_\\mathrm{scale}=1$')\n",
    "ax.plot(x, y_delta_001_19, label=r'$\\delta=0.01, \\beta_\\mathrm{scale}=1/9$')\n",
    "ax.plot(x, y_delta_001_1, label=r'$\\delta=0.01, \\beta_\\mathrm{scale}=1$')\n",
    "\n",
    "ax.set_xlabel('iteration')\n",
    "ax.set_ylabel(r'$\\beta$')\n",
    "\n",
    "ax.spines['top'].set_color('none')\n",
    "ax.spines['right'].set_color('none')\n",
    "ax.spines['left'].set_smart_bounds(True)\n",
    "ax.spines['bottom'].set_smart_bounds(True)\n",
    "ax.legend()\n",
    "fig.tight_layout()\n",
    "fig.savefig('beta.png', bbox_inches='tight', dpi=400)"
   ]
  },
  {
   "cell_type": "code",
   "execution_count": null,
   "metadata": {},
   "outputs": [],
   "source": []
  }
 ],
 "metadata": {
  "kernelspec": {
   "display_name": "Python 3",
   "language": "python",
   "name": "python3"
  },
  "language_info": {
   "codemirror_mode": {
    "name": "ipython",
    "version": 3
   },
   "file_extension": ".py",
   "mimetype": "text/x-python",
   "name": "python",
   "nbconvert_exporter": "python",
   "pygments_lexer": "ipython3",
   "version": "3.7.0"
  }
 },
 "nbformat": 4,
 "nbformat_minor": 4
}
