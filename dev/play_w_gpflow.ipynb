{
 "cells": [
  {
   "cell_type": "code",
   "execution_count": 10,
   "id": "c41cfbc3-2832-4741-a55a-c3206805bf16",
   "metadata": {},
   "outputs": [],
   "source": [
    "import gpflow\n",
    "import numpy as np\n",
    "import matplotlib.pyplot as plt\n",
    "import tensorflow as tf\n",
    "from gpflow.utilities import print_summary\n",
    "\n",
    "# The lines below are specific to the notebook format\n",
    "%matplotlib inline\n",
    "\n",
    "plt.style.use('ggplot')"
   ]
  },
  {
   "cell_type": "code",
   "execution_count": 11,
   "id": "2e4f3026-0cc2-4a4c-b8f1-d9d43b1054f0",
   "metadata": {},
   "outputs": [],
   "source": [
    "def binh_korn(x, y):  # pylint:disable=invalid-name\n",
    "    \"\"\"https://en.wikipedia.org/wiki/Test_functions_for_optimization\"\"\"\n",
    "    obj1 = 4 * x ** 2 + 4 * y ** 2\n",
    "    obj2 = (x - 5) ** 2 + (y - 5) ** 2\n",
    "    return -obj1, -obj2\n",
    "\n",
    "\n",
    "def binh_korn_points():\n",
    "    \"\"\"Create a dataset based on the Binh-Korn test function\"\"\"\n",
    "    x = np.linspace(0, 5, 100)  # pylint:disable=invalid-name\n",
    "    y = np.linspace(0, 3, 100)  # pylint:disable=invalid-name\n",
    "    array = np.array([binh_korn(xi, yi) for xi, yi in zip(x, y)])\n",
    "    return np.hstack([x.reshape(-1, 1), y.reshape(-1, 1)]), array"
   ]
  },
  {
   "cell_type": "code",
   "execution_count": 12,
   "id": "1c868223-b4fb-4e5d-9b87-ff661c087055",
   "metadata": {},
   "outputs": [],
   "source": [
    "x, points = binh_korn_points()"
   ]
  },
  {
   "cell_type": "code",
   "execution_count": 13,
   "id": "c95ebb69-50fb-49f1-9a78-a895d8456b1b",
   "metadata": {},
   "outputs": [
    {
     "data": {
      "text/plain": [
       "Text(0, 0.5, 'objective 2')"
      ]
     },
     "execution_count": 13,
     "metadata": {},
     "output_type": "execute_result"
    },
    {
     "data": {
      "image/png": "[encoded data removed]",
      "text/plain": [
       "<Figure size 432x288 with 1 Axes>"
      ]
     },
     "metadata": {},
     "output_type": "display_data"
    }
   ],
   "source": [
    "plt.plot(points[:,0], points[:,1])\n",
    "plt.xlabel('objective 1')\n",
    "plt.ylabel('objective 2')"
   ]
  },
  {
   "cell_type": "code",
   "execution_count": 43,
   "id": "0dab5f4c-225d-42e4-8664-caeec9c82713",
   "metadata": {},
   "outputs": [],
   "source": [
    "x = (x - x.mean()) / x.std()\n",
    "points = (points - points.mean()) / points.std()"
   ]
  },
  {
   "cell_type": "code",
   "execution_count": 61,
   "id": "ebc93fff-eb5c-4e62-a6fd-3db8d79aef62",
   "metadata": {},
   "outputs": [],
   "source": [
    "indices = np.random.choice(range(len(x)), 20)"
   ]
  },
  {
   "cell_type": "code",
   "execution_count": 44,
   "id": "8a146c77-ce03-4402-9734-50a98bf11e12",
   "metadata": {},
   "outputs": [],
   "source": [
    "k = gpflow.kernels.RationalQuadratic()"
   ]
  },
  {
   "cell_type": "code",
   "execution_count": 62,
   "id": "df30b95c-2298-4f3b-bf11-d1d76e72915c",
   "metadata": {},
   "outputs": [],
   "source": [
    "m = gpflow.models.GPR(data=(x[indices], points[indices]), kernel=k, mean_function=None)"
   ]
  },
  {
   "cell_type": "code",
   "execution_count": 63,
   "id": "90c39dbc-4dd2-4faf-8d2d-cac21546fe6e",
   "metadata": {},
   "outputs": [],
   "source": [
    "opt = gpflow.optimizers.Scipy()"
   ]
  },
  {
   "cell_type": "code",
   "execution_count": 64,
   "id": "695e9038-c319-4ace-9cb4-6800c929993a",
   "metadata": {},
   "outputs": [],
   "source": [
    "opt_logs = opt.minimize(m.training_loss, m.trainable_variables, options=dict(maxiter=10000))"
   ]
  },
  {
   "cell_type": "code",
   "execution_count": 65,
   "id": "9ea2a0fe-0202-43e0-a772-7e31f0bf7f6b",
   "metadata": {},
   "outputs": [
    {
     "data": {
      "text/plain": [
       "      fun: -172.66386574809877\n",
       " hess_inv: <4x4 LbfgsInvHessProduct with dtype=float64>\n",
       "      jac: array([-2.81214986e-06, -1.56898375e-04,  3.27001326e-05,  1.13801794e-02])\n",
       "  message: 'CONVERGENCE: REL_REDUCTION_OF_F_<=_FACTR*EPSMCH'\n",
       "     nfev: 92\n",
       "      nit: 9\n",
       "     njev: 92\n",
       "   status: 0\n",
       "  success: True\n",
       "        x: array([4571.19693555,   26.02637078, 5668.52441827,  -21.0171565 ])"
      ]
     },
     "execution_count": 65,
     "metadata": {},
     "output_type": "execute_result"
    }
   ],
   "source": [
    "opt_logs"
   ]
  },
  {
   "cell_type": "code",
   "execution_count": 66,
   "id": "0d907d93-cf78-4320-a59d-93a78b3777c4",
   "metadata": {},
   "outputs": [],
   "source": [
    "mean, var = m.predict_f(x)"
   ]
  },
  {
   "cell_type": "code",
   "execution_count": 70,
   "id": "fe77c5c5-59e9-47c4-bc10-6637dd8d866a",
   "metadata": {},
   "outputs": [
    {
     "data": {
      "text/plain": [
       "<ErrorbarContainer object of 3 artists>"
      ]
     },
     "execution_count": 70,
     "metadata": {},
     "output_type": "execute_result"
    },
    {
     "data": {
      "image/png": "[encoded data removed]",
      "text/plain": [
       "<Figure size 432x288 with 1 Axes>"
      ]
     },
     "metadata": {},
     "output_type": "display_data"
    }
   ],
   "source": [
    "plt.plot(mean[:,0], mean[:,1])\n",
    "plt.errorbar(mean[:,0], mean[:,1], var[:,1], var[:,0])\n",
    "#plt.plot(points[:,0], points[:,1])"
   ]
  },
  {
   "cell_type": "code",
   "execution_count": null,
   "id": "aecc8906-69fd-41ac-a2dc-05c0dd8d26a6",
   "metadata": {},
   "outputs": [],
   "source": []
  }
 ],
 "metadata": {
  "kernelspec": {
   "display_name": "Python 3",
   "language": "python",
   "name": "python3"
  },
  "language_info": {
   "codemirror_mode": {
    "name": "ipython",
    "version": 3
   },
   "file_extension": ".py",
   "mimetype": "text/x-python",
   "name": "python",
   "nbconvert_exporter": "python",
   "pygments_lexer": "ipython3",
   "version": "3.7.10"
  }
 },
 "nbformat": 4,
 "nbformat_minor": 5
}
